{
 "cells": [
  {
   "cell_type": "code",
   "execution_count": 7,
   "id": "07371305",
   "metadata": {},
   "outputs": [
    {
     "name": "stdout",
     "output_type": "stream",
     "text": [
      "Local backup created successfully.\n",
      "Failed to upload backup to S3: Unable to locate credentials\n",
      "Failed to upload backup to S3.\n"
     ]
    }
   ],
   "source": [
    "import os\n",
    "import shutil\n",
    "import boto3\n",
    "from datetime import datetime\n",
    "\n",
    "\\\n",
    "source_dir = \"B:/dload\" \n",
    "backup_dir =\"B:/epic\"\n",
    "s3_bucket_name = \"red\" \n",
    "s3_backup_folder = \"backups\"  \n",
    "\n",
    "def get_timestamp():\n",
    "    now = datetime.now()\n",
    "    return now.strftime(\"%Y-%m-%d_%H-%M-%S\")\n",
    "\n",
    "\n",
    "def create_local_backup():\n",
    "    timestamp = get_timestamp()\n",
    "    backup_filename = f\"backup_{timestamp}.zip\"\n",
    "    backup_path = os.path.join(backup_dir, backup_filename)\n",
    "    shutil.make_archive(backup_path.split('.zip')[0], 'zip', source_dir)\n",
    "    return backup_path\n",
    "\n",
    "\n",
    "def upload_to_s3(backup_path):\n",
    "    s3 = boto3.client('s3')\n",
    "    backup_filename = os.path.basename(backup_path)\n",
    "    s3_key = f\"{s3_backup_folder}/{backup_filename}\"\n",
    "    try:\n",
    "        s3.upload_file(backup_path, s3_bucket_name, s3_key)\n",
    "        return True\n",
    "    except Exception as e:\n",
    "        print(f\"Failed to upload backup to S3: {str(e)}\")\n",
    "        return False\n",
    "\n",
    "\n",
    "def main():\n",
    "    try:\n",
    "        backup_path = create_local_backup()\n",
    "        if os.path.exists(backup_path):\n",
    "            print(\"Local backup created successfully.\")\n",
    "            success = upload_to_s3(backup_path)\n",
    "            if success:\n",
    "                print(\"Backup uploaded to S3 successfully.\")\n",
    "            else:\n",
    "                print(\"Failed to upload backup to S3.\")\n",
    "        else:\n",
    "            print(\"Failed to create local backup.\")\n",
    "    except Exception as e:\n",
    "        print(f\"Backup failed: {str(e)}\")\n",
    "\n",
    "\n",
    "if __name__ == \"__main__\":\n",
    "    main()"
   ]
  },
  {
   "cell_type": "code",
   "execution_count": null,
   "id": "8c9a0d4e",
   "metadata": {},
   "outputs": [],
   "source": []
  }
 ],
 "metadata": {
  "kernelspec": {
   "display_name": "Python 3 (ipykernel)",
   "language": "python",
   "name": "python3"
  },
  "language_info": {
   "codemirror_mode": {
    "name": "ipython",
    "version": 3
   },
   "file_extension": ".py",
   "mimetype": "text/x-python",
   "name": "python",
   "nbconvert_exporter": "python",
   "pygments_lexer": "ipython3",
   "version": "3.11.5"
  }
 },
 "nbformat": 4,
 "nbformat_minor": 5
}
